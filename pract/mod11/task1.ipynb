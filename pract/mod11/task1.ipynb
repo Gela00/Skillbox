{
  "nbformat": 4,
  "nbformat_minor": 0,
  "metadata": {
    "colab": {
      "provenance": []
    },
    "kernelspec": {
      "name": "python3",
      "display_name": "Python 3"
    },
    "language_info": {
      "name": "python"
    }
  },
  "cells": [
    {
      "cell_type": "code",
      "execution_count": null,
      "metadata": {
        "id": "yBRg5jzoTIh-"
      },
      "outputs": [],
      "source": [
        "import sqlite3\n",
        "# создание таблиц\n",
        "connection = sqlite3.connect('task1.sqlite')\n",
        "cursor = connection.cursor()\n",
        "\n",
        "cursor.execute('''CREATE TABLE actors (\n",
        "                id INTEGER PRIMARY KEY,\n",
        "                name TEXT )\n",
        "''')\n",
        "\n",
        "cursor.execute('''CREATE TABLE movies (\n",
        "                id INTEGER PRIMARY KEY,\n",
        "                title TEXT )\n",
        "''')\n",
        "\n",
        "cursor.execute('''CREATE TABLE actor_movie (\n",
        "               actor_id INTEGER,\n",
        "               movie_id INTEGER,\n",
        "               FOREIGN KEY (actor_id) REFERENCES actors(id),\n",
        "               FOREIGN KEY (movie_id) REFERENCES movies(id) )\n",
        "''')\n",
        "\n",
        "connection.commit()\n",
        "connection.close()"
      ]
    },
    {
      "cell_type": "code",
      "source": [
        "connection_netflix = sqlite3.connect('netflix.sqlite')\n",
        "cursor_netflix = connection_netflix.cursor()\n",
        "cursor_netflix.execute('SELECT title, \"cast\" FROM netflix_titles')\n",
        "data = cursor_netflix.fetchall()\n",
        "connection_netflix.close()\n"
      ],
      "metadata": {
        "id": "ZNcfFq_VZ1ir"
      },
      "execution_count": 13,
      "outputs": []
    },
    {
      "cell_type": "code",
      "source": [
        "import re\n",
        "update_data = []\n",
        "unique_actors = set()\n",
        "for i in data:\n",
        "    film, actors = i\n",
        "    cast = re.split(r' ,|, |,', actors)\n",
        "    unique_actors = unique_actors.union(set(cast))\n",
        "    update_data.append((film, cast))"
      ],
      "metadata": {
        "id": "vfrBb2xdYwD0"
      },
      "execution_count": null,
      "outputs": []
    },
    {
      "cell_type": "code",
      "source": [
        "connection_actors = sqlite3.connect('task1.sqlite')\n",
        "cursor_actors = connection_actors.cursor()\n",
        "for actor in unique_actors:\n",
        "    cursor_actors.execute(\"INSERT INTO actors VALUES (NULL, ?)\", (actor,))\n",
        "connection_actors.commit()\n",
        "connection_actors.close()"
      ],
      "metadata": {
        "id": "AsYwgo9oZ8ui"
      },
      "execution_count": null,
      "outputs": []
    },
    {
      "cell_type": "code",
      "source": [
        "connection_films = sqlite3.connect('task1.sqlite')\n",
        "cursor_movies = connection_films.cursor()\n",
        "for i in update_data:\n",
        "    film, actors = i\n",
        "    cursor_movies.execute(\"INSERT INTO movies VALUES (NULL, ?)\", (film,))\n",
        "connection_films.commit()\n",
        "connection_films.close()"
      ],
      "metadata": {
        "id": "U5r0HxnxaCKA"
      },
      "execution_count": null,
      "outputs": []
    },
    {
      "cell_type": "code",
      "source": [
        "connection_actor_film = sqlite3.connect('task1.sqlite')\n",
        "cursor_actors = connection_actor_film.cursor()\n",
        "curso_films = connection_actor_film.cursor()\n",
        "cursor_actor_film = connection_actor_film.cursor()\n",
        "for i in update_data:\n",
        "    film, actors = i\n",
        "    cursor_actor_film.execute('SELECT id FROM movies WHERE title = ?', (film,))\n",
        "    unique_film = cursor_actor_film.fetchone()\n",
        "    for actor in actors:\n",
        "        cursor_actors.execute('SELECT id FROM actors WHERE name = ?', (actor,))\n",
        "        unique_actor = cursor_actors.fetchone()\n",
        "        cursor_actor_film.execute(\"INSERT INTO actor_movie (actor_id, movie_id) VALUES (?, ?)\", (unique_actor[0], unique_film[0]))\n",
        "connection_actor_film.commit()\n",
        "connection_actor_film.close()"
      ],
      "metadata": {
        "id": "Q0nEzbtylEG-"
      },
      "execution_count": null,
      "outputs": []
    },
    {
      "cell_type": "code",
      "source": [
        "connection_find_actors = sqlite3.connect('task1.sqlite')\n",
        "cursor_find_actors = connection_find_actors.cursor()\n",
        "cursor_find_actors.execute('''\n",
        "    SELECT a1.name AS actor1_name, a2.name AS actor2_name, COUNT(*) AS movies_together\n",
        "    FROM actor_movie am1\n",
        "    JOIN actor_movie am2 ON am1.movie_id = am2.movie_id AND am1.actor_id < am2.actor_id\n",
        "    JOIN actors a1 ON am1.actor_id = a1.id\n",
        "    JOIN actors a2 ON am2.actor_id = a2.id\n",
        "    GROUP BY actor1_name, actor2_name\n",
        "    ORDER BY movies_together DESC\n",
        "    LIMIT 1\n",
        "''')\n",
        "actors = cursor_find_actors.fetchone()\n",
        "print(actors[0])\n",
        "print(actors[1])\n",
        "connection_find_actors.close()"
      ],
      "metadata": {
        "id": "X6LW33gllGhI"
      },
      "execution_count": null,
      "outputs": []
    }
  ]
}